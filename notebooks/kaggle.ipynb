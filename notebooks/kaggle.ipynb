{
 "cells": [
  {
   "cell_type": "markdown",
   "metadata": {},
   "source": [
    "# Naive U-net with Pytorch\n",
    "\n",
    "Simple code to run a baseline-like experiment with pytorch that includes:\n",
    "\n",
    " - Our own pytorch dataset class with the CARVANA dataset\n",
    " - Our own u-net like model\n",
    " - Our own loss-function"
   ]
  },
  {
   "cell_type": "code",
   "execution_count": 1,
   "metadata": {
    "ExecuteTime": {
     "end_time": "2017-08-25T13:17:32.740696Z",
     "start_time": "2017-08-25T13:17:32.266127Z"
    }
   },
   "outputs": [],
   "source": [
    "from torch.utils.data.dataset import Dataset\n",
    "import os\n",
    "from os.path import isfile, join\n",
    "from PIL import Image\n",
    "from torch.utils.data import DataLoader\n",
    "from torchvision import transforms\n",
    "import torch\n",
    "import torch.optim as optim\n",
    "from torch.autograd import Variable\n",
    "from tqdm import tqdm_notebook as tqdm\n",
    "import numpy as np\n",
    "import matplotlib.pyplot as plt\n",
    "import torch.nn.functional as F\n",
    "from torch import nn\n",
    "\n",
    "%matplotlib inline"
   ]
  },
  {
   "cell_type": "markdown",
   "metadata": {
    "collapsed": true
   },
   "source": [
    "# Create pytorch dataset\n",
    "\n",
    "In my case I previously splitted the training images and masks into a validation set with 10% of the training content. If you do nota have this splitting just set `subset='train'` or `subset='test'` when creating the dataset"
   ]
  },
  {
   "cell_type": "code",
   "execution_count": 2,
   "metadata": {
    "ExecuteTime": {
     "end_time": "2017-08-25T13:17:32.814057Z",
     "start_time": "2017-08-25T13:17:32.741959Z"
    },
    "collapsed": true
   },
   "outputs": [],
   "source": [
    "class CARVANA(Dataset):\n",
    "    \"\"\"\n",
    "        CARVANA dataset that contains car images as .jpg. Each car has 16 images\n",
    "        taken in different angles and a unique id: id_01.jpg, id_02.jpg, ..., id_16.jpg\n",
    "        The labels are provided as a .gif image that contains the manually cutout mask\n",
    "        for each training image\n",
    "    \"\"\"\n",
    "\n",
    "    def __init__(self, root, subset=\"train\", transform=None):\n",
    "        \"\"\"\n",
    "\n",
    "        :param root: it has to be a path to the folder that contains the dataset folders\n",
    "        :param train: boolean true if you want the train set false for the test one\n",
    "        :param transform: transform the images and labels\n",
    "        \"\"\"\n",
    "\n",
    "        # initialize variables\n",
    "        self.root = os.path.expanduser(root)\n",
    "        self.transform = transform\n",
    "        self.subset = subset\n",
    "        self.data_path, self.labels_path = [], []\n",
    "\n",
    "        def load_images(path):\n",
    "            \"\"\"\n",
    "            returns all the sorted image paths.\n",
    "\n",
    "            :param path:\n",
    "            :return: array with all the paths to the images\n",
    "            \"\"\"\n",
    "            images_dir = [join(path, f) for f in os.listdir(path) if isfile(join(path, f))]\n",
    "            images_dir.sort()\n",
    "\n",
    "            return images_dir\n",
    "\n",
    "        # load the data regarding the subset\n",
    "        if self.subset == \"train\":\n",
    "            self.data_path = load_images(self.root + \"/train\")\n",
    "            self.labels_path = load_images(self.root + \"/train_masks\")\n",
    "        elif self.subset == \"val\":\n",
    "            self.data_path = load_images(self.root + \"/val\")\n",
    "            self.labels_path = load_images(self.root + \"/val_masks\")\n",
    "        elif self.subset == \"test\":\n",
    "            self.data_path = load_images(self.root + \"/test\")\n",
    "            self.labels_path = None\n",
    "        else:\n",
    "            raise RuntimeError('Invalid subset ' + self.subset + ', it must be one of:'\n",
    "                                                                 ' \\'train\\', \\'val\\' or \\'test\\'')\n",
    "\n",
    "    def __getitem__(self, index):\n",
    "        \"\"\"\n",
    "\n",
    "        :param index:\n",
    "        :return: tuple (img, target) with the input data and its label\n",
    "        \"\"\"\n",
    "\n",
    "        # load image and labels\n",
    "        img = Image.open(self.data_path[index])\n",
    "        target = Image.open(self.labels_path[index]) if not self.subset == 'test' else None\n",
    "\n",
    "        # apply transforms to both\n",
    "        if self.transform is not None:\n",
    "            img = self.transform(img)\n",
    "            target = self.transform(target)\n",
    "\n",
    "        return img, target\n",
    "\n",
    "    def __len__(self):\n",
    "        return len(self.data_path)\n"
   ]
  },
  {
   "cell_type": "markdown",
   "metadata": {},
   "source": [
    "## Check that the dataset was correctly created\n",
    "\n",
    "We create a new objetc with our training set. Images and targets are scaled to 256*256."
   ]
  },
  {
   "cell_type": "code",
   "execution_count": 3,
   "metadata": {
    "ExecuteTime": {
     "end_time": "2017-08-25T13:17:33.588153Z",
     "start_time": "2017-08-25T13:17:32.815185Z"
    }
   },
   "outputs": [
    {
     "data": {
      "image/png": "[encoded data removed]",
      "text/plain": [
       "<matplotlib.figure.Figure at 0x7f8fb1235080>"
      ]
     },
     "metadata": {},
     "output_type": "display_data"
    }
   ],
   "source": [
    "# create datasets\n",
    "train_dataset = CARVANA(root='../data/',\n",
    "                              subset=\"train\",\n",
    "                              transform=transforms.Compose([\n",
    "                                  transforms.Scale((256,256)),\n",
    "                                  transforms.ToTensor()])\n",
    "                              )\n",
    "\n",
    "# define the dataloader with the previous dataset\n",
    "train_loader = torch.utils.data.DataLoader(dataset=train_dataset,\n",
    "                                           batch_size=8,\n",
    "                                           shuffle=True,\n",
    "                                           pin_memory=True,\n",
    "                                           num_workers=1)\n",
    "\n",
    "# define a simple function to show image-labels\n",
    "def im_show(img_list):\n",
    "    \"\"\"\n",
    "    It receives a list of images and plots them together\n",
    "    :param img_list:\n",
    "    :return:\n",
    "    \"\"\"\n",
    "    to_PIL = transforms.ToPILImage()\n",
    "    if len(img_list) > 9:\n",
    "        raise Exception(\"len(img_list) must be smaller than 10\") \n",
    "        \n",
    "    for idx, img in enumerate(img_list):\n",
    "        img = np.array(to_PIL(img))\n",
    "        plt.subplot(100 + 10 * len(img_list) + (idx + 1))\n",
    "        fig = plt.imshow(img)\n",
    "        fig.axes.get_xaxis().set_visible(False)\n",
    "        fig.axes.get_yaxis().set_visible(False)\n",
    "    \n",
    "    plt.show()\n",
    "\n",
    "img_list = []\n",
    "for i in range(4):\n",
    "    img, label = train_dataset[i]\n",
    "    img_list.append(img)\n",
    "    img_list.append(label)\n",
    "    \n",
    "im_show(img_list)\n",
    "    "
   ]
  },
  {
   "cell_type": "markdown",
   "metadata": {},
   "source": [
    "# Create the U-net model\n",
    "\n",
    "Let's create a smal u-net like model as a toy example."
   ]
  },
  {
   "cell_type": "markdown",
   "metadata": {},
   "source": [
    "## Define the convolutional block\n",
    "\n",
    "First we define the convolutional block so we do not need to re-write every time"
   ]
  },
  {
   "cell_type": "code",
   "execution_count": 4,
   "metadata": {
    "ExecuteTime": {
     "end_time": "2017-08-25T13:17:33.598430Z",
     "start_time": "2017-08-25T13:17:33.589351Z"
    }
   },
   "outputs": [],
   "source": [
    "class conv_block(nn.Module):\n",
    "    \"\"\"\n",
    "    Define the convolutional - batch norm - relu block to avoid re-writing it\n",
    "    every time\n",
    "    \"\"\"\n",
    "\n",
    "    def __init__(self, in_size, out_size, kernel_size=3, padding=1, stride=1):\n",
    "        super(conv_block, self).__init__()\n",
    "        self.conv = nn.Conv2d(in_size, out_size, kernel_size,\n",
    "                              padding=padding, stride=stride)\n",
    "        self.bn = nn.BatchNorm2d(out_size)\n",
    "        self.relu = nn.ReLU(inplace=True)\n",
    "\n",
    "    def forward(self, x):\n",
    "        return self.relu(self.bn(self.conv(x)))"
   ]
  },
  {
   "cell_type": "markdown",
   "metadata": {
    "heading_collapsed": true
   },
   "source": [
    "## Define the network\n",
    "\n",
    "Then we define the network keeping in mind that down_1 output size should match with the scaled output of up_2, while down_2 size should match with the scaled output of the middle convolution of the u-net model."
   ]
  },
  {
   "cell_type": "code",
   "execution_count": 5,
   "metadata": {
    "ExecuteTime": {
     "end_time": "2017-08-25T13:17:33.675086Z",
     "start_time": "2017-08-25T13:17:33.600222Z"
    },
    "collapsed": true,
    "hidden": true
   },
   "outputs": [],
   "source": [
    "class small_UNET_256(nn.Module):\n",
    "    \"\"\"\n",
    "    Define UNET model that accepts a 256 input and mostly uses 3x3 kernels\n",
    "    with stride and padding = 1. It reduces the size of the image to 8x8 pixels\n",
    "    ** It might not work if the input 'x' is not a square.\n",
    "    \"\"\"\n",
    "\n",
    "    def __init__(self):\n",
    "        super(small_UNET_256, self).__init__()\n",
    "\n",
    "        self.down_1 = nn.Sequential(\n",
    "            conv_block(3, 16),\n",
    "            conv_block(16, 32, stride=2, padding=1))\n",
    "\n",
    "        self.down_2 = nn.Sequential(\n",
    "            conv_block(32, 64),\n",
    "            conv_block(64, 128))\n",
    "\n",
    "        self.middle = conv_block(128, 128, kernel_size=1, padding= 0)\n",
    "\n",
    "        self.up_2 = nn.Sequential(\n",
    "            conv_block(256, 128),\n",
    "            conv_block(128, 32))\n",
    "\n",
    "        self.up_0 = nn.Sequential(\n",
    "            conv_block(64, 64),\n",
    "            conv_block(64, 32))\n",
    "\n",
    "        self.output = nn.Sequential(\n",
    "            conv_block(32, 16),\n",
    "            conv_block(16, 1, kernel_size=1, padding=0))\n",
    "\n",
    "    def forward(self, x):\n",
    "        # 256\n",
    "        down1 = self.down_1(x)\n",
    "        out = F.max_pool2d(down1, kernel_size=2, stride=2)\n",
    "\n",
    "        # 64\n",
    "        down2 = self.down_2(out)\n",
    "        out = F.max_pool2d(down2, kernel_size=2, stride=2)\n",
    "\n",
    "        # 8\n",
    "        out = self.middle(out)\n",
    "\n",
    "        # 64\n",
    "        out = F.upsample(out, scale_factor=2)\n",
    "        out = torch.cat([down2, out], 1)\n",
    "        out = self.up_2(out)\n",
    "\n",
    "        # 128\n",
    "        out = F.upsample(out, scale_factor=2)\n",
    "        out = torch.cat([down1, out], 1)\n",
    "        out = self.up_1(out)\n",
    "\n",
    "        # 256\n",
    "        out = F.upsample(out, scale_factor=2)\n",
    "        return self.output(out)"
   ]
  },
  {
   "cell_type": "markdown",
   "metadata": {},
   "source": [
    "## Create the loss function\n",
    "\n",
    "Define the Binary Cross Entropy loss function"
   ]
  },
  {
   "cell_type": "code",
   "execution_count": 6,
   "metadata": {
    "ExecuteTime": {
     "end_time": "2017-08-25T13:17:33.695601Z",
     "start_time": "2017-08-25T13:17:33.676252Z"
    },
    "collapsed": true
   },
   "outputs": [],
   "source": [
    "class BCELoss2d(nn.Module):\n",
    "    \"\"\"\n",
    "    Code taken from:\n",
    "    https://www.kaggle.com/c/carvana-image-masking-challenge/discussion/37208\n",
    "    \"\"\"\n",
    "    def __init__(self, weight=None, size_average=True):\n",
    "        super(BCELoss2d, self).__init__()\n",
    "        self.bce_loss = nn.BCELoss(weight, size_average)\n",
    "\n",
    "    def forward(self, logits, targets):\n",
    "        probs = F.sigmoid(logits)\n",
    "        probs_flat = probs.view(-1)\n",
    "        targets_flat = targets.view(-1)\n",
    "        return self.bce_loss(probs_flat, targets_flat)"
   ]
  },
  {
   "cell_type": "markdown",
   "metadata": {},
   "source": [
    "# Create the training function\n",
    "\n",
    "Set the model to train (batch norms, dropouts etc), set a progress bar and start to loop over the data.\n",
    "\n",
    "Get the inputs and targets, compute the loss, propagate gradients and update the progress-bar with the results"
   ]
  },
  {
   "cell_type": "code",
   "execution_count": 7,
   "metadata": {
    "ExecuteTime": {
     "end_time": "2017-08-25T13:17:33.720415Z",
     "start_time": "2017-08-25T13:17:33.696727Z"
    },
    "collapsed": true
   },
   "outputs": [],
   "source": [
    "# define the training function\n",
    "def train(train_loader, model, criterion, epoch, num_epochs):\n",
    "    model.train()\n",
    "\n",
    "    # set a progress bar\n",
    "    pbar = tqdm(enumerate(train_loader), total=len(train_loader))\n",
    "    for i, (images, labels) in pbar:\n",
    "        # Convert torch tensor to Variable\n",
    "        images = Variable(images.cuda())\n",
    "        labels = Variable(labels.cuda())\n",
    "\n",
    "        # compute output\n",
    "        optimizer.zero_grad()\n",
    "        outputs = model(images)\n",
    "\n",
    "        # measure loss\n",
    "        loss = criterion(outputs, labels)\n",
    "\n",
    "        # compute gradient and do SGD step\n",
    "        loss.backward()\n",
    "        optimizer.step()\n",
    "\n",
    "        # update progress bar status\n",
    "        pbar.set_description('[TRAIN] - EPOCH %d/ %d - BATCH LOSS: %.4f(avg) '\n",
    "                             % (epoch + 1, num_epochs, loss.data[0]))\n"
   ]
  },
  {
   "cell_type": "markdown",
   "metadata": {},
   "source": [
    "# Run the training loop\n",
    "\n",
    "Create the model, define the loss function and set-up the optimizer. Place everything in a for loop while calling the `train` function."
   ]
  },
  {
   "cell_type": "code",
   "execution_count": 8,
   "metadata": {
    "ExecuteTime": {
     "end_time": "2017-08-25T13:24:53.079555Z",
     "start_time": "2017-08-25T13:17:33.721855Z"
    }
   },
   "outputs": [
    {
     "data": {
      "application/vnd.jupyter.widget-view+json": {
       "model_id": "fa4421cd69184168926defc8d3d857af"
      }
     },
     "metadata": {},
     "output_type": "display_data"
    },
    {
     "name": "stdout",
     "output_type": "stream",
     "text": [
      "\n"
     ]
    },
    {
     "data": {
      "application/vnd.jupyter.widget-view+json": {
       "model_id": "71ca38142d0e48beb4df68cba7c4f653"
      }
     },
     "metadata": {},
     "output_type": "display_data"
    },
    {
     "name": "stdout",
     "output_type": "stream",
     "text": [
      "\n"
     ]
    }
   ],
   "source": [
    "model = small_UNET_256().cuda()\n",
    "criterion = BCELoss2d().cuda()\n",
    "optimizer = optim.SGD(model.parameters(),\n",
    "                      weight_decay=1e-4,\n",
    "                      lr=1e-4,\n",
    "                      momentum=0.9,\n",
    "                      nesterov=True)\n",
    "\n",
    "# run the training loop\n",
    "num_epochs = 2\n",
    "for epoch in range(0, num_epochs):\n",
    "    # train for one epoch\n",
    "    train(train_loader, model, criterion, epoch, num_epochs)"
   ]
  },
  {
   "cell_type": "markdown",
   "metadata": {},
   "source": [
    "# Features to add\n",
    "\n",
    " - [ ] define the validation function\n",
    " - [ ] add a custom transform operation for data-augmentation\n",
    " - [ ] connect with tensorboard to log the experiments\n",
    " - [ ] store checkpoints while training\n",
    " - [ ] save output as a .csv ready to upload to the competition"
   ]
  }
 ],
 "metadata": {
  "kernelspec": {
   "display_name": "Python 3",
   "language": "python",
   "name": "python3"
  },
  "language_info": {
   "codemirror_mode": {
    "name": "ipython",
    "version": 3
   },
   "file_extension": ".py",
   "mimetype": "text/x-python",
   "name": "python",
   "nbconvert_exporter": "python",
   "pygments_lexer": "ipython3",
   "version": "3.6.2"
  }
 },
 "nbformat": 4,
 "nbformat_minor": 1
}
